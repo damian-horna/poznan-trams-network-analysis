{
 "cells": [
  {
   "cell_type": "markdown",
   "id": "55d7bf83",
   "metadata": {},
   "source": [
    "# Analiza sieci tramwajowej w Poznaniu"
   ]
  },
  {
   "cell_type": "markdown",
   "id": "469a6360",
   "metadata": {},
   "source": [
    "Przedmiotem analizy jest sieć tramwajowa w Poznaniu. Dane o przejazdach pozyskaliśmy samodzielnie ze strony ZTM: https://www.ztm.poznan.pl/pl/rozklad-jazdy/ przy użyciu skryptu skrapującego. Dane o lokalizacji przystanków pozyskaliśmy ręcznie z Google Maps, ponieważ nigdzie niestety takie dane nie były dostępne."
   ]
  },
  {
   "cell_type": "markdown",
   "id": "c2e96d24",
   "metadata": {},
   "source": [
    "### Pytania o charakterze biznesowym:\n",
    "* Które części miasta mogą cierpieć z powodu nierozbudowanej sieci tramwajowej?\n",
    "* Które węzły są w sieci najważniejsze z punktu widzenia ewentualnego wyłączenia z użycia?"
   ]
  },
  {
   "cell_type": "markdown",
   "id": "388b0139",
   "metadata": {},
   "source": [
    "## 0. Importy"
   ]
  },
  {
   "cell_type": "code",
   "execution_count": 1,
   "id": "fd6635de",
   "metadata": {},
   "outputs": [],
   "source": [
    "import networkx as nx\n",
    "import pprint\n",
    "from typing import Mapping, List, Tuple"
   ]
  },
  {
   "cell_type": "markdown",
   "id": "2f533e9e",
   "metadata": {},
   "source": [
    "## 1. Wczytanie danych"
   ]
  },
  {
   "cell_type": "code",
   "execution_count": 2,
   "id": "5d080f45",
   "metadata": {},
   "outputs": [],
   "source": [
    "def read_routes() -> Mapping[str, List]:\n",
    "    routes = {}\n",
    "    \n",
    "    trams = list(range(1, 19)) + [201]\n",
    "    for tram in trams:\n",
    "        stops = None\n",
    "        with open(f'./data/{tram}there') as f:\n",
    "            stops = f.read().splitlines()\n",
    "            stops = [s.strip() for s in stops]\n",
    "        routes[f\"{tram}there\"] = stops\n",
    "\n",
    "        with open(f'./data/{tram}back') as f:\n",
    "            stops = f.read().splitlines()\n",
    "            stops = [s.strip() for s in stops]\n",
    "        routes[f\"{tram}back\"] = stops\n",
    "    return routes\n",
    "\n",
    "def read_coords() -> Mapping[str, Tuple]:\n",
    "    result = {}\n",
    "    with open(f'./data/coords') as f:\n",
    "        lines = f.read().splitlines()\n",
    "        for line in lines:\n",
    "            line = line.strip()\n",
    "            stop_name, x, y  = line.split(\",\")\n",
    "            result[stop_name] = (float(x.strip()),float(y.strip()))\n",
    "    return result"
   ]
  },
  {
   "cell_type": "code",
   "execution_count": 3,
   "id": "eaf3af7d",
   "metadata": {},
   "outputs": [],
   "source": [
    "route_to_stops : Mapping[str, List] = read_routes()"
   ]
  },
  {
   "cell_type": "code",
   "execution_count": 4,
   "id": "1a5599c5",
   "metadata": {},
   "outputs": [
    {
     "ename": "ValueError",
     "evalue": "could not convert string to float: '16.892751805282938`'",
     "output_type": "error",
     "traceback": [
      "\u001b[0;31m---------------------------------------------------------------------------\u001b[0m",
      "\u001b[0;31mValueError\u001b[0m                                Traceback (most recent call last)",
      "\u001b[0;32m<ipython-input-4-9e858419b402>\u001b[0m in \u001b[0;36m<module>\u001b[0;34m\u001b[0m\n\u001b[0;32m----> 1\u001b[0;31m \u001b[0mstop_to_location\u001b[0m \u001b[0;34m:\u001b[0m \u001b[0mMapping\u001b[0m\u001b[0;34m[\u001b[0m\u001b[0mstr\u001b[0m\u001b[0;34m,\u001b[0m \u001b[0mTuple\u001b[0m\u001b[0;34m]\u001b[0m \u001b[0;34m=\u001b[0m \u001b[0mread_coords\u001b[0m\u001b[0;34m(\u001b[0m\u001b[0;34m)\u001b[0m\u001b[0;34m\u001b[0m\u001b[0;34m\u001b[0m\u001b[0m\n\u001b[0m",
      "\u001b[0;32m<ipython-input-2-a3e647d5c45b>\u001b[0m in \u001b[0;36mread_coords\u001b[0;34m()\u001b[0m\n\u001b[1;32m     23\u001b[0m             \u001b[0mline\u001b[0m \u001b[0;34m=\u001b[0m \u001b[0mline\u001b[0m\u001b[0;34m.\u001b[0m\u001b[0mstrip\u001b[0m\u001b[0;34m(\u001b[0m\u001b[0;34m)\u001b[0m\u001b[0;34m\u001b[0m\u001b[0;34m\u001b[0m\u001b[0m\n\u001b[1;32m     24\u001b[0m             \u001b[0mstop_name\u001b[0m\u001b[0;34m,\u001b[0m \u001b[0mx\u001b[0m\u001b[0;34m,\u001b[0m \u001b[0my\u001b[0m  \u001b[0;34m=\u001b[0m \u001b[0mline\u001b[0m\u001b[0;34m.\u001b[0m\u001b[0msplit\u001b[0m\u001b[0;34m(\u001b[0m\u001b[0;34m\",\"\u001b[0m\u001b[0;34m)\u001b[0m\u001b[0;34m\u001b[0m\u001b[0;34m\u001b[0m\u001b[0m\n\u001b[0;32m---> 25\u001b[0;31m             \u001b[0mresult\u001b[0m\u001b[0;34m[\u001b[0m\u001b[0mstop_name\u001b[0m\u001b[0;34m]\u001b[0m \u001b[0;34m=\u001b[0m \u001b[0;34m(\u001b[0m\u001b[0mfloat\u001b[0m\u001b[0;34m(\u001b[0m\u001b[0mx\u001b[0m\u001b[0;34m.\u001b[0m\u001b[0mstrip\u001b[0m\u001b[0;34m(\u001b[0m\u001b[0;34m)\u001b[0m\u001b[0;34m)\u001b[0m\u001b[0;34m,\u001b[0m\u001b[0mfloat\u001b[0m\u001b[0;34m(\u001b[0m\u001b[0my\u001b[0m\u001b[0;34m.\u001b[0m\u001b[0mstrip\u001b[0m\u001b[0;34m(\u001b[0m\u001b[0;34m)\u001b[0m\u001b[0;34m)\u001b[0m\u001b[0;34m)\u001b[0m\u001b[0;34m\u001b[0m\u001b[0;34m\u001b[0m\u001b[0m\n\u001b[0m\u001b[1;32m     26\u001b[0m     \u001b[0;32mreturn\u001b[0m \u001b[0mresult\u001b[0m\u001b[0;34m\u001b[0m\u001b[0;34m\u001b[0m\u001b[0m\n",
      "\u001b[0;31mValueError\u001b[0m: could not convert string to float: '16.892751805282938`'"
     ]
    }
   ],
   "source": [
    "stop_to_location : Mapping[str, Tuple] = read_coords()"
   ]
  },
  {
   "cell_type": "code",
   "execution_count": null,
   "id": "a0f86c82",
   "metadata": {},
   "outputs": [],
   "source": [
    "# just to check if we have all coords\n",
    "for r, stops in route_to_stops.items():\n",
    "    for stop in stops:\n",
    "        if stop not in stop_to_location:\n",
    "            print(stop)"
   ]
  },
  {
   "cell_type": "markdown",
   "id": "564cff0f",
   "metadata": {},
   "source": [
    "## 2. Utworzenie skierowanego Multigrafu"
   ]
  },
  {
   "cell_type": "code",
   "execution_count": null,
   "id": "8043547e",
   "metadata": {},
   "outputs": [],
   "source": [
    "G = nx.MultiDiGraph()\n",
    "\n",
    "for stop_name, coords in stop_to_location.items():\n",
    "    G.add_node(stop_name, location=coords)\n",
    "\n",
    "# Adding edges\n",
    "for k, stops_list in route_to_stops.items():\n",
    "    edges = [(stops_list[i],stops_list[i+1]) for i in range(len(stops_list)-1)]\n",
    "    G.add_edges_from(edges)"
   ]
  },
  {
   "cell_type": "code",
   "execution_count": null,
   "id": "7573b64a",
   "metadata": {},
   "outputs": [],
   "source": [
    "# list(G)"
   ]
  },
  {
   "cell_type": "code",
   "execution_count": null,
   "id": "31150aa7",
   "metadata": {},
   "outputs": [],
   "source": [
    "nx.draw(G, nx.get_node_attributes(G, 'location'), with_labels=True, node_size=0)"
   ]
  },
  {
   "cell_type": "markdown",
   "id": "8282c473",
   "metadata": {},
   "source": [
    "### Rozkład stopni wyjściowych i wejściowych"
   ]
  },
  {
   "cell_type": "markdown",
   "id": "3d73b983",
   "metadata": {},
   "source": [
    "### Rozkład długości najkrótszych ścieżek"
   ]
  },
  {
   "cell_type": "markdown",
   "id": "77918c71",
   "metadata": {},
   "source": [
    "### Rozkład pośrednictwa"
   ]
  },
  {
   "cell_type": "markdown",
   "id": "a8ccf727",
   "metadata": {},
   "source": [
    "### Rozkład lokalnych współczynników grupowania"
   ]
  },
  {
   "cell_type": "markdown",
   "id": "e821461c",
   "metadata": {},
   "source": [
    "### Miary oceny sieci: gęstość, współczynnik centralizacji, promień "
   ]
  },
  {
   "cell_type": "markdown",
   "id": "af280ba6",
   "metadata": {},
   "source": [
    "### Podział sieci na moduły"
   ]
  },
  {
   "cell_type": "markdown",
   "id": "6f41a6d4",
   "metadata": {},
   "source": [
    "### Trzy wizualizacje"
   ]
  },
  {
   "cell_type": "code",
   "execution_count": null,
   "id": "69f5a5ec",
   "metadata": {},
   "outputs": [],
   "source": []
  },
  {
   "cell_type": "code",
   "execution_count": null,
   "id": "f2f734a4",
   "metadata": {},
   "outputs": [],
   "source": []
  },
  {
   "cell_type": "code",
   "execution_count": null,
   "id": "5e997bc5",
   "metadata": {},
   "outputs": [],
   "source": []
  }
 ],
 "metadata": {
  "kernelspec": {
   "display_name": "Python 3",
   "language": "python",
   "name": "python3"
  },
  "language_info": {
   "codemirror_mode": {
    "name": "ipython",
    "version": 3
   },
   "file_extension": ".py",
   "mimetype": "text/x-python",
   "name": "python",
   "nbconvert_exporter": "python",
   "pygments_lexer": "ipython3",
   "version": "3.6.9"
  }
 },
 "nbformat": 4,
 "nbformat_minor": 5
}
