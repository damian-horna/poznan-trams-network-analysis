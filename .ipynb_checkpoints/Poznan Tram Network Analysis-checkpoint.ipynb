{
 "cells": [
  {
   "cell_type": "markdown",
   "id": "55d7bf83",
   "metadata": {},
   "source": [
    "# Analiza sieci tramwajowej w Poznaniu"
   ]
  },
  {
   "cell_type": "markdown",
   "id": "469a6360",
   "metadata": {},
   "source": [
    "Przedmiotem analizy jest sieć tramwajowa w Poznaniu. Dane o przejazdach pozyskaliśmy samodzielnie ze strony ZTM: https://www.ztm.poznan.pl/pl/rozklad-jazdy/ przy użyciu skryptu skrapującego. Dane o lokalizacji przystanków pozyskaliśmy ręcznie z Google Maps, ponieważ nigdzie niestety takie dane nie były dostępne."
   ]
  },
  {
   "cell_type": "markdown",
   "id": "c2e96d24",
   "metadata": {},
   "source": [
    "### Pytania o charakterze biznesowym:\n",
    "* Które części miasta mogą cierpieć z powodu nierozbudowanej sieci tramwajowej?\n",
    "* Które węzły są w sieci najważniejsze z punktu widzenia ewentualnego wyłączenia z użycia?"
   ]
  },
  {
   "cell_type": "markdown",
   "id": "dc1c50dd",
   "metadata": {},
   "source": [
    "## 0. Importy"
   ]
  },
  {
   "cell_type": "code",
   "execution_count": 27,
   "id": "b41d82fe",
   "metadata": {},
   "outputs": [],
   "source": [
    "import networkx\n",
    "import pprint\n",
    "from typing import Mapping, List, Tuple"
   ]
  },
  {
   "cell_type": "markdown",
   "id": "7b70bfdc",
   "metadata": {},
   "source": [
    "## 1. Wczytanie danych"
   ]
  },
  {
   "cell_type": "code",
   "execution_count": 41,
   "id": "e02de27c",
   "metadata": {},
   "outputs": [],
   "source": [
    "def read_routes() -> Mapping[str, List]:\n",
    "    routes = {}\n",
    "    \n",
    "    trams = list(range(1, 19)) + [201]\n",
    "    for tram in trams:\n",
    "        stops = None\n",
    "        with open(f'./data/{tram}there') as f:\n",
    "            stops = f.read().splitlines()\n",
    "            stops = [s.strip() for s in stops]\n",
    "        routes[f\"{tram}there\"] = stops\n",
    "\n",
    "        with open(f'./data/{tram}back') as f:\n",
    "            stops = f.read().splitlines()\n",
    "            stops = [s.strip() for s in stops]\n",
    "        routes[f\"{tram}back\"] = stops\n",
    "    return routes\n",
    "\n",
    "def read_coords() -> Mapping[str, Tuple]:\n",
    "    result = {}\n",
    "    with open(f'./data/coords') as f:\n",
    "        lines = f.read().splitlines()\n",
    "        for line in lines:\n",
    "            line = line.strip()\n",
    "            stop_name, x, y  = line.split(\",\")\n",
    "            result[stop_name] = (x,y)\n",
    "    return result"
   ]
  },
  {
   "cell_type": "code",
   "execution_count": 42,
   "id": "53074f1b",
   "metadata": {},
   "outputs": [],
   "source": [
    "routes : Mapping[str, List] = read_routes()"
   ]
  },
  {
   "cell_type": "code",
   "execution_count": 43,
   "id": "50a668df",
   "metadata": {},
   "outputs": [],
   "source": [
    "coords : Mapping[str, Tuple] = read_coords()"
   ]
  },
  {
   "cell_type": "code",
   "execution_count": null,
   "id": "059524d1",
   "metadata": {},
   "outputs": [],
   "source": []
  },
  {
   "cell_type": "code",
   "execution_count": null,
   "id": "c584ff42",
   "metadata": {},
   "outputs": [],
   "source": []
  },
  {
   "cell_type": "code",
   "execution_count": 2,
   "id": "48cf69f3",
   "metadata": {},
   "outputs": [
    {
     "name": "stdout",
     "output_type": "stream",
     "text": [
      "MultiEdgeView([(1, 2, 0), (1, 2, 1), (1, 2, 2)])\n"
     ]
    }
   ],
   "source": [
    "import networkx\n",
    "import pprint\n",
    "MG = networkx.MultiGraph()\n",
    "MG.add_weighted_edges_from([(1, 2, 0.5), (1, 2, 1.2), (2, 1, 0.3)])\n",
    "pprint.pprint(MG.edges)"
   ]
  },
  {
   "cell_type": "code",
   "execution_count": 3,
   "id": "8043547e",
   "metadata": {},
   "outputs": [
    {
     "name": "stdout",
     "output_type": "stream",
     "text": [
      "OutMultiEdgeView([(1, 2, 0), (1, 2, 1), (2, 1, 0)])\n"
     ]
    }
   ],
   "source": [
    "MDG = networkx.MultiDiGraph()\n",
    "MDG.add_weighted_edges_from([(1, 2, 0.5), (1, 2, 1.2), (2, 1, 0.3)])\n",
    "pprint.pprint(MDG.edges)"
   ]
  },
  {
   "cell_type": "markdown",
   "id": "8282c473",
   "metadata": {},
   "source": [
    "### Rozkład stopni wyjściowych i wejściowych"
   ]
  },
  {
   "cell_type": "markdown",
   "id": "3d73b983",
   "metadata": {},
   "source": [
    "### Rozkład długości najkrótszych ścieżek"
   ]
  },
  {
   "cell_type": "markdown",
   "id": "77918c71",
   "metadata": {},
   "source": [
    "### Rozkład pośrednictwa"
   ]
  },
  {
   "cell_type": "markdown",
   "id": "a8ccf727",
   "metadata": {},
   "source": [
    "### Rozkład lokalnych współczynników grupowania"
   ]
  },
  {
   "cell_type": "markdown",
   "id": "e821461c",
   "metadata": {},
   "source": [
    "### Miary oceny sieci: gęstość, współczynnik centralizacji, promień "
   ]
  },
  {
   "cell_type": "markdown",
   "id": "af280ba6",
   "metadata": {},
   "source": [
    "### Podział sieci na moduły"
   ]
  },
  {
   "cell_type": "markdown",
   "id": "6f41a6d4",
   "metadata": {},
   "source": [
    "### Trzy wizualizacje"
   ]
  },
  {
   "cell_type": "code",
   "execution_count": null,
   "id": "69f5a5ec",
   "metadata": {},
   "outputs": [],
   "source": []
  },
  {
   "cell_type": "code",
   "execution_count": null,
   "id": "f2f734a4",
   "metadata": {},
   "outputs": [],
   "source": []
  },
  {
   "cell_type": "code",
   "execution_count": null,
   "id": "5e997bc5",
   "metadata": {},
   "outputs": [],
   "source": []
  }
 ],
 "metadata": {
  "kernelspec": {
   "display_name": "Python 3",
   "language": "python",
   "name": "python3"
  },
  "language_info": {
   "codemirror_mode": {
    "name": "ipython",
    "version": 3
   },
   "file_extension": ".py",
   "mimetype": "text/x-python",
   "name": "python",
   "nbconvert_exporter": "python",
   "pygments_lexer": "ipython3",
   "version": "3.6.9"
  }
 },
 "nbformat": 4,
 "nbformat_minor": 5
}
